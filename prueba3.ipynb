{
 "cells": [
  {
   "cell_type": "code",
   "execution_count": 7,
   "id": "163424e1",
   "metadata": {},
   "outputs": [
    {
     "data": {
      "text/plain": [
       "24"
      ]
     },
     "execution_count": 7,
     "metadata": {},
     "output_type": "execute_result"
    }
   ],
   "source": [
    "\n",
    "def factorial(n):\n",
    "    if n>=1:\n",
    "        \n",
    "        factorial = 1\n",
    "        for i in range(1, n+1):\n",
    "            factorial = factorial*i\n",
    "        return factorial\n",
    "    else:\n",
    "        print(\"El número ingresado es inválido.\")\n",
    "\n",
    "factorial(4)\n",
    "        \n",
    "        \n",
    "        "
   ]
  },
  {
   "cell_type": "code",
   "execution_count": null,
   "id": "854473b4",
   "metadata": {},
   "outputs": [],
   "source": []
  }
 ],
 "metadata": {
  "kernelspec": {
   "display_name": "Python 3 (ipykernel)",
   "language": "python",
   "name": "python3"
  },
  "language_info": {
   "codemirror_mode": {
    "name": "ipython",
    "version": 3
   },
   "file_extension": ".py",
   "mimetype": "text/x-python",
   "name": "python",
   "nbconvert_exporter": "python",
   "pygments_lexer": "ipython3",
   "version": "3.9.12"
  }
 },
 "nbformat": 4,
 "nbformat_minor": 5
}

#codigoalternativo
def factorial(n): 
    return 1 if (n==1 or n==0) else n * factorial(n - 1);  
  
num = 10; 
print("Factorial of",num,"is", factorial(num))
